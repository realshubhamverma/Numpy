{
 "cells": [
  {
   "cell_type": "markdown",
   "id": "ea06ed07",
   "metadata": {},
   "source": [
    "## Numpy : Practice Problem\n",
    "\n",
    "1.Extract all odd numbers from an array"
   ]
  },
  {
   "cell_type": "code",
   "execution_count": 4,
   "id": "cb4fc39e",
   "metadata": {},
   "outputs": [
    {
     "name": "stdout",
     "output_type": "stream",
     "text": [
      "[1 3 5 7 9]\n"
     ]
    }
   ],
   "source": [
    "import numpy as np\n",
    "arr = np.array([0, 1, 2, 3, 4, 5, 6, 7, 8, 9])\n",
    "print(arr[arr%2==1])"
   ]
  },
  {
   "cell_type": "markdown",
   "id": "ca54a5b0",
   "metadata": {},
   "source": [
    "2.Replace all odd numbers in arr with -1"
   ]
  },
  {
   "cell_type": "code",
   "execution_count": 5,
   "id": "94f70e4c",
   "metadata": {},
   "outputs": [
    {
     "name": "stdout",
     "output_type": "stream",
     "text": [
      "[ 0 -1  2 -1  4 -1  6 -1  8 -1]\n"
     ]
    }
   ],
   "source": [
    "arr = np.array([0, 1, 2, 3, 4, 5, 6, 7, 8, 9])\n",
    "arr[arr%2==1]=-1\n",
    "print(arr)"
   ]
  },
  {
   "cell_type": "markdown",
   "id": "0be65042",
   "metadata": {},
   "source": [
    "3.Convert a 1D array to a 2D array with 2 rows"
   ]
  },
  {
   "cell_type": "code",
   "execution_count": 6,
   "id": "4c551888",
   "metadata": {},
   "outputs": [
    {
     "name": "stdout",
     "output_type": "stream",
     "text": [
      "[[0 1 2 3 4]\n",
      " [5 6 7 8 9]]\n"
     ]
    }
   ],
   "source": [
    "arr=np.arange(10)\n",
    "arr = np.reshape(arr,(2,5))\n",
    "print(arr)"
   ]
  },
  {
   "cell_type": "markdown",
   "id": "3b2126be",
   "metadata": {},
   "source": [
    "4.Stack arrays a and b vertically"
   ]
  },
  {
   "cell_type": "code",
   "execution_count": 7,
   "id": "deb17cdd",
   "metadata": {},
   "outputs": [
    {
     "name": "stdout",
     "output_type": "stream",
     "text": [
      "[[0 1 2 3 4]\n",
      " [5 6 7 8 9]\n",
      " [1 1 1 1 1]\n",
      " [1 1 1 1 1]]\n"
     ]
    }
   ],
   "source": [
    "a = np.arange(10).reshape(2,-1)\n",
    "b = np.repeat(1, 10).reshape(2,-1)\n",
    "c=np.vstack((a,b))\n",
    "print(c)"
   ]
  },
  {
   "cell_type": "markdown",
   "id": "ebb3cc1b",
   "metadata": {},
   "source": [
    "5.Get all items between 5 and 10 from a"
   ]
  },
  {
   "cell_type": "code",
   "execution_count": 8,
   "id": "f4eca86f",
   "metadata": {},
   "outputs": [
    {
     "name": "stdout",
     "output_type": "stream",
     "text": [
      "[ 6  9 10]\n"
     ]
    }
   ],
   "source": [
    "a = np.array([2, 6, 1, 9, 10, 3, 27])\n",
    "a = a[(a>=5)*(a<=10)]\n",
    "print(a)"
   ]
  },
  {
   "cell_type": "markdown",
   "id": "9d617ce1",
   "metadata": {},
   "source": [
    "6.Create a null vector of size 10 but the fifth value which is 1.\n"
   ]
  },
  {
   "cell_type": "code",
   "execution_count": 9,
   "id": "341b4a2d",
   "metadata": {},
   "outputs": [
    {
     "data": {
      "text/plain": [
       "array([0, 0, 0, 0, 1, 0, 0, 0, 0, 0])"
      ]
     },
     "execution_count": 9,
     "metadata": {},
     "output_type": "execute_result"
    }
   ],
   "source": [
    "z = np.zeros(10,int)\n",
    "z[4]=1\n",
    "z"
   ]
  },
  {
   "cell_type": "markdown",
   "id": "757cf876",
   "metadata": {},
   "source": [
    "7.Create a vector with values ranging from 10 to 49."
   ]
  },
  {
   "cell_type": "code",
   "execution_count": 10,
   "id": "6a289a43",
   "metadata": {},
   "outputs": [
    {
     "data": {
      "text/plain": [
       "array([10, 11, 12, 13, 14, 15, 16, 17, 18, 19, 20, 21, 22, 23, 24, 25, 26,\n",
       "       27, 28, 29, 30, 31, 32, 33, 34, 35, 36, 37, 38, 39, 40, 41, 42, 43,\n",
       "       44, 45, 46, 47, 48, 49])"
      ]
     },
     "execution_count": 10,
     "metadata": {},
     "output_type": "execute_result"
    }
   ],
   "source": [
    "vec = np.arange(10,50)\n",
    "vec\n"
   ]
  },
  {
   "cell_type": "markdown",
   "id": "b8b73ad0",
   "metadata": {},
   "source": [
    "8.Create a 10x10 array with random values and find the minimum and maximum values."
   ]
  },
  {
   "cell_type": "code",
   "execution_count": 11,
   "id": "9a7ea52d",
   "metadata": {},
   "outputs": [
    {
     "name": "stdout",
     "output_type": "stream",
     "text": [
      "0\n",
      "99\n"
     ]
    }
   ],
   "source": [
    "a=np.random.randint(0,100,(10,10))\n",
    "print(a.min())\n",
    "print(a.max())"
   ]
  },
  {
   "cell_type": "markdown",
   "id": "fce6736a",
   "metadata": {},
   "source": [
    "9.Create a 3*3 matrix and print it's transpose matrix"
   ]
  },
  {
   "cell_type": "code",
   "execution_count": 12,
   "id": "bd495e67",
   "metadata": {},
   "outputs": [
    {
     "name": "stdout",
     "output_type": "stream",
     "text": [
      "[[0 1 2]\n",
      " [3 4 5]\n",
      " [6 7 8]]\n",
      "\n",
      "\n",
      "[[0 3 6]\n",
      " [1 4 7]\n",
      " [2 5 8]]\n"
     ]
    }
   ],
   "source": [
    "a = np.arange(0,9)\n",
    "b = a.reshape(3,3)\n",
    "print(b)\n",
    "print(\"\\n\")\n",
    "c = b.transpose()\n",
    "print(c)"
   ]
  },
  {
   "cell_type": "markdown",
   "id": "a3e076e9",
   "metadata": {},
   "source": [
    "10.Create two arrays of 2-D and find dot product of it."
   ]
  },
  {
   "cell_type": "code",
   "execution_count": 14,
   "id": "22def93d",
   "metadata": {},
   "outputs": [
    {
     "name": "stdout",
     "output_type": "stream",
     "text": [
      "[[1 9]\n",
      " [9 2]]\n",
      "[[5 5]\n",
      " [7 2]]\n",
      "[[68 23]\n",
      " [59 49]]\n"
     ]
    }
   ],
   "source": [
    "a=np.random.randint(1,10,(2,2))\n",
    "b=np.random.randint(1,10,(2,2))\n",
    "print(a)\n",
    "print(b)\n",
    "print(a.dot(b))"
   ]
  },
  {
   "cell_type": "markdown",
   "id": "83ab9255",
   "metadata": {},
   "source": [
    "11.Compute the maximum for each row in the given array."
   ]
  },
  {
   "cell_type": "code",
   "execution_count": 15,
   "id": "6ba2c504",
   "metadata": {},
   "outputs": [
    {
     "name": "stdout",
     "output_type": "stream",
     "text": [
      "Matrix = \n",
      " [[9 9 4]\n",
      " [8 8 1]\n",
      " [5 3 6]\n",
      " [3 3 3]\n",
      " [2 1 9]]\n"
     ]
    },
    {
     "data": {
      "text/plain": [
       "array([9, 8, 6, 3, 9])"
      ]
     },
     "execution_count": 15,
     "metadata": {},
     "output_type": "execute_result"
    }
   ],
   "source": [
    "np.random.seed(100)\n",
    "a = np.random.randint(1,10, [5,3])\n",
    "print(\"Matrix = \\n\",a)\n",
    "np.max(a,1)"
   ]
  },
  {
   "cell_type": "markdown",
   "id": "f11a2f1c",
   "metadata": {},
   "source": [
    "12.Select 3rd & 5th row and 3rd & 4th columns## "
   ]
  },
  {
   "cell_type": "code",
   "execution_count": 16,
   "id": "1708089b",
   "metadata": {},
   "outputs": [
    {
     "name": "stdout",
     "output_type": "stream",
     "text": [
      "[[25 70 68 26]\n",
      " [19 96 12 37]\n",
      " [14 41 11 23]\n",
      " [93 14 69 77]\n",
      " [17 59 57 75]]\n"
     ]
    },
    {
     "data": {
      "text/plain": [
       "array([[11, 23],\n",
       "       [57, 75]])"
      ]
     },
     "execution_count": 16,
     "metadata": {},
     "output_type": "execute_result"
    }
   ],
   "source": [
    "data = np.random.randint(10,100,(5,4))\n",
    "print(data)\n",
    "data[[2,4],2:4]"
   ]
  },
  {
   "cell_type": "markdown",
   "id": "e433e933",
   "metadata": {},
   "source": [
    "13.Convert below matrix into vector"
   ]
  },
  {
   "cell_type": "code",
   "execution_count": 17,
   "id": "56d623f3",
   "metadata": {},
   "outputs": [
    {
     "data": {
      "text/plain": [
       "array([1, 2, 3, 4, 5, 6, 7, 8, 9])"
      ]
     },
     "execution_count": 17,
     "metadata": {},
     "output_type": "execute_result"
    }
   ],
   "source": [
    "matrix = np.array([[1,2,3],\n",
    "          [4,5,6],\n",
    "          [7,8,9]])\n",
    "matrix.flatten()"
   ]
  },
  {
   "cell_type": "markdown",
   "id": "ff4ee66c",
   "metadata": {},
   "source": [
    "14.The product of two inverse matrix is identical matrix,prove"
   ]
  },
  {
   "cell_type": "code",
   "execution_count": 22,
   "id": "51c119df",
   "metadata": {},
   "outputs": [
    {
     "name": "stdout",
     "output_type": "stream",
     "text": [
      "[[2 3]\n",
      " [2 4]]\n",
      "[[ 2.  -1.5]\n",
      " [-1.   1. ]]\n",
      "[[1. 0.]\n",
      " [0. 1.]]\n"
     ]
    }
   ],
   "source": [
    "m = np.array([[2,3],\n",
    "              [2,4]])\n",
    "print(m)\n",
    "n=np.linalg.inv(m)\n",
    "print(n)\n",
    "print(n.dot(m))"
   ]
  },
  {
   "cell_type": "markdown",
   "id": "8554ac42",
   "metadata": {},
   "source": [
    "15.Create a matrix from a uniform distribution over [0, 1)"
   ]
  },
  {
   "cell_type": "code",
   "execution_count": 23,
   "id": "3ff85c6d",
   "metadata": {},
   "outputs": [
    {
     "name": "stdout",
     "output_type": "stream",
     "text": [
      "[0.70112365 0.43125447 0.82137568 0.4674263  0.35330853]\n"
     ]
    }
   ],
   "source": [
    "a = np.random.uniform(1,0,5)\n",
    "print(a)"
   ]
  }
 ],
 "metadata": {
  "kernelspec": {
   "display_name": "Python 3",
   "language": "python",
   "name": "python3"
  },
  "language_info": {
   "codemirror_mode": {
    "name": "ipython",
    "version": 3
   },
   "file_extension": ".py",
   "mimetype": "text/x-python",
   "name": "python",
   "nbconvert_exporter": "python",
   "pygments_lexer": "ipython3",
   "version": "3.9.1"
  }
 },
 "nbformat": 4,
 "nbformat_minor": 5
}
